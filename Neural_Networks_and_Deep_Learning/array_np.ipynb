{
 "cells": [
  {
   "cell_type": "code",
   "execution_count": 5,
   "id": "initial_id",
   "metadata": {
    "collapsed": true,
    "ExecuteTime": {
     "end_time": "2024-03-31T16:36:23.966080100Z",
     "start_time": "2024-03-31T16:36:23.961313800Z"
    }
   },
   "outputs": [
    {
     "name": "stdout",
     "output_type": "stream",
     "text": [
      "(2, 2, 1)\n"
     ]
    }
   ],
   "source": [
    "import numpy as np\n",
    "x=np.array([[[1],[2]],[[3],[4]]])\n",
    "print(x.shape)"
   ]
  },
  {
   "cell_type": "code",
   "outputs": [
    {
     "name": "stdout",
     "output_type": "stream",
     "text": [
      "[[[1]\n",
      "  [2]]\n",
      "\n",
      " [[3]\n",
      "  [4]]]\n"
     ]
    }
   ],
   "source": [
    "print(x)"
   ],
   "metadata": {
    "collapsed": false,
    "ExecuteTime": {
     "end_time": "2024-03-31T16:36:40.086015Z",
     "start_time": "2024-03-31T16:36:40.077751100Z"
    }
   },
   "id": "d8617981060fd686",
   "execution_count": 6
  },
  {
   "cell_type": "code",
   "outputs": [],
   "source": [
    "a=np.random.randn(2,3)\n",
    "a.shape=(2,3)"
   ],
   "metadata": {
    "collapsed": false,
    "ExecuteTime": {
     "end_time": "2024-03-31T16:37:39.885777800Z",
     "start_time": "2024-03-31T16:37:39.788320200Z"
    }
   },
   "id": "971cce7d9133e669",
   "execution_count": 8
  },
  {
   "cell_type": "code",
   "outputs": [],
   "source": [
    "b=np.random.randn(2,1)\n",
    "b.shape=(2,1)"
   ],
   "metadata": {
    "collapsed": false,
    "ExecuteTime": {
     "end_time": "2024-03-31T16:38:08.642089300Z",
     "start_time": "2024-03-31T16:38:08.627615100Z"
    }
   },
   "id": "5b704e43bf39d3ea",
   "execution_count": 9
  },
  {
   "cell_type": "code",
   "outputs": [],
   "source": [
    "c = a + b"
   ],
   "metadata": {
    "collapsed": false,
    "ExecuteTime": {
     "end_time": "2024-03-31T16:38:20.156313600Z",
     "start_time": "2024-03-31T16:38:20.147601800Z"
    }
   },
   "id": "1ce38684b8704148",
   "execution_count": 10
  },
  {
   "cell_type": "code",
   "outputs": [
    {
     "name": "stdout",
     "output_type": "stream",
     "text": [
      "(2, 3)\n"
     ]
    }
   ],
   "source": [
    "print(c.shape)"
   ],
   "metadata": {
    "collapsed": false,
    "ExecuteTime": {
     "end_time": "2024-03-31T16:38:28.619642600Z",
     "start_time": "2024-03-31T16:38:28.504645100Z"
    }
   },
   "id": "e817549130227909",
   "execution_count": 11
  },
  {
   "cell_type": "code",
   "outputs": [],
   "source": [
    "a=np.random.randn(4,3)\n",
    "a.shape=(4,3)"
   ],
   "metadata": {
    "collapsed": false,
    "ExecuteTime": {
     "end_time": "2024-03-31T16:38:58.640138200Z",
     "start_time": "2024-03-31T16:38:58.560693300Z"
    }
   },
   "id": "229397f0f8eb8659",
   "execution_count": 12
  },
  {
   "cell_type": "code",
   "outputs": [],
   "source": [
    "b=np.random.randn(1,3)\n",
    "b.shape=(1,3)"
   ],
   "metadata": {
    "collapsed": false,
    "ExecuteTime": {
     "end_time": "2024-03-31T16:39:15.535261Z",
     "start_time": "2024-03-31T16:39:15.528744400Z"
    }
   },
   "id": "ee6a0f671757a32a",
   "execution_count": 13
  },
  {
   "cell_type": "code",
   "outputs": [],
   "source": [
    "c = a * b"
   ],
   "metadata": {
    "collapsed": false,
    "ExecuteTime": {
     "end_time": "2024-03-31T16:40:24.228811900Z",
     "start_time": "2024-03-31T16:40:24.128502100Z"
    }
   },
   "id": "684999f0ba4c1b24",
   "execution_count": 17
  },
  {
   "cell_type": "code",
   "outputs": [
    {
     "name": "stdout",
     "output_type": "stream",
     "text": [
      "(4, 3)\n"
     ]
    }
   ],
   "source": [
    "print(c.shape)"
   ],
   "metadata": {
    "collapsed": false,
    "ExecuteTime": {
     "end_time": "2024-03-31T16:40:38.263783100Z",
     "start_time": "2024-03-31T16:40:38.131599100Z"
    }
   },
   "id": "3922611e6b043fb6",
   "execution_count": 18
  },
  {
   "cell_type": "code",
   "outputs": [
    {
     "name": "stdout",
     "output_type": "stream",
     "text": [
      "[[ 5  5]\n",
      " [ 5 10]]\n"
     ]
    }
   ],
   "source": [
    "a=np.array([[2,1],[1,3]])\n",
    "a = np.dot(a, a)\n",
    "print(a)"
   ],
   "metadata": {
    "collapsed": false,
    "ExecuteTime": {
     "end_time": "2024-03-31T16:42:00.969278500Z",
     "start_time": "2024-03-31T16:42:00.875714500Z"
    }
   },
   "id": "97fd3663a10cd04e",
   "execution_count": 19
  },
  {
   "cell_type": "code",
   "outputs": [
    {
     "ename": "ValueError",
     "evalue": "cannot reshape array of size 4 into shape (4,3)",
     "output_type": "error",
     "traceback": [
      "\u001B[1;31m---------------------------------------------------------------------------\u001B[0m",
      "\u001B[1;31mValueError\u001B[0m                                Traceback (most recent call last)",
      "Cell \u001B[1;32mIn[24], line 1\u001B[0m\n\u001B[1;32m----> 1\u001B[0m a\u001B[38;5;241m.\u001B[39mshape\u001B[38;5;241m=\u001B[39m(\u001B[38;5;241m4\u001B[39m,\u001B[38;5;241m3\u001B[39m)\n\u001B[0;32m      2\u001B[0m b\u001B[38;5;241m.\u001B[39mshape\u001B[38;5;241m=\u001B[39m(\u001B[38;5;241m4\u001B[39m,\u001B[38;5;241m1\u001B[39m)\n\u001B[0;32m      3\u001B[0m \u001B[38;5;28;01mfor\u001B[39;00m i \u001B[38;5;129;01min\u001B[39;00m \u001B[38;5;28mrange\u001B[39m(\u001B[38;5;241m3\u001B[39m):\n",
      "\u001B[1;31mValueError\u001B[0m: cannot reshape array of size 4 into shape (4,3)"
     ]
    }
   ],
   "source": [
    "a.shape=(4,3)\n",
    "b.shape=(4,1)\n",
    "for i in range(3):\n",
    "    for j in range(4):\n",
    "        c[i][j] = a[j][i] + b[j]\n",
    "print(c(a + b))"
   ],
   "metadata": {
    "collapsed": false,
    "ExecuteTime": {
     "end_time": "2024-03-31T16:44:33.729761700Z",
     "start_time": "2024-03-31T16:44:33.712816600Z"
    }
   },
   "id": "141eb8483c3f8798",
   "execution_count": 24
  },
  {
   "cell_type": "code",
   "outputs": [],
   "source": [],
   "metadata": {
    "collapsed": false
   },
   "id": "67261a953cb8f7b8"
  }
 ],
 "metadata": {
  "kernelspec": {
   "display_name": "Python 3",
   "language": "python",
   "name": "python3"
  },
  "language_info": {
   "codemirror_mode": {
    "name": "ipython",
    "version": 2
   },
   "file_extension": ".py",
   "mimetype": "text/x-python",
   "name": "python",
   "nbconvert_exporter": "python",
   "pygments_lexer": "ipython2",
   "version": "2.7.6"
  }
 },
 "nbformat": 4,
 "nbformat_minor": 5
}
