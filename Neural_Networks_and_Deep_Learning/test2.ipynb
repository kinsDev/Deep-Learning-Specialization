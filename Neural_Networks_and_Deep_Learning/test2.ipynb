{
 "cells": [
  {
   "cell_type": "code",
   "execution_count": 5,
   "id": "initial_id",
   "metadata": {
    "collapsed": true,
    "ExecuteTime": {
     "end_time": "2024-04-01T09:25:17.827876800Z",
     "start_time": "2024-04-01T09:25:17.820868400Z"
    }
   },
   "outputs": [
    {
     "name": "stdout",
     "output_type": "stream",
     "text": [
      "[[ 0.03491723 -0.00257037 -0.03264897]\n",
      " [-0.1661348   0.24984914  0.00167662]\n",
      " [ 0.63998718 -0.93107921  0.72992869]]\n"
     ]
    }
   ],
   "source": [
    "import numpy as np\n",
    "\n",
    "a=np.random.randn(3,3)\n",
    "b=np.random.randn(3,1)\n",
    "c= a * b\n",
    "\n",
    "print(c)"
   ]
  },
  {
   "cell_type": "code",
   "outputs": [
    {
     "name": "stdout",
     "output_type": "stream",
     "text": [
      "(3, 3)\n"
     ]
    }
   ],
   "source": [
    "print(c.shape)"
   ],
   "metadata": {
    "collapsed": false,
    "ExecuteTime": {
     "end_time": "2024-04-01T09:25:06.383204300Z",
     "start_time": "2024-04-01T09:25:06.357654200Z"
    }
   },
   "id": "6dbf76461ee92cd0",
   "execution_count": 4
  },
  {
   "cell_type": "code",
   "outputs": [
    {
     "name": "stdout",
     "output_type": "stream",
     "text": [
      "[[4 1]\n",
      " [1 9]]\n"
     ]
    }
   ],
   "source": [
    "a=np.array([[2,1],[1,3]])\n",
    "print(a * a)"
   ],
   "metadata": {
    "collapsed": false,
    "ExecuteTime": {
     "end_time": "2024-04-01T09:32:55.218132800Z",
     "start_time": "2024-04-01T09:32:55.213880600Z"
    }
   },
   "id": "132ea73abc0b05d",
   "execution_count": 15
  },
  {
   "cell_type": "code",
   "outputs": [
    {
     "name": "stdout",
     "output_type": "stream",
     "text": [
      "[[-1.36551585  0.49468825 -0.31314935]\n",
      " [ 1.52659039 -0.09624531  0.00950271]\n",
      " [ 0.20660898 -0.81364042 -0.68349771]\n",
      " [-0.82743951 -2.57051893  0.86404977]]\n",
      "[[-2.1117929  -1.60521331]\n",
      " [-0.03113919  1.93836969]\n",
      " [-0.90138204 -0.98815241]]\n"
     ]
    }
   ],
   "source": [
    "a=np.random.randn(4,3)\n",
    "a.shape = (4, 3)\n",
    "print(a)\n",
    "b=np.random.randn(3,2)\n",
    "b.shape = (3, 2)\n",
    "print(b)"
   ],
   "metadata": {
    "collapsed": false,
    "ExecuteTime": {
     "end_time": "2024-04-01T09:40:19.166066100Z",
     "start_time": "2024-04-01T09:40:19.103511400Z"
    }
   },
   "id": "385f983b1dd18b1",
   "execution_count": 22
  },
  {
   "cell_type": "code",
   "outputs": [
    {
     "ename": "ValueError",
     "evalue": "operands could not be broadcast together with shapes (4,3) (3,2) ",
     "output_type": "error",
     "traceback": [
      "\u001B[1;31m---------------------------------------------------------------------------\u001B[0m",
      "\u001B[1;31mValueError\u001B[0m                                Traceback (most recent call last)",
      "Cell \u001B[1;32mIn[21], line 1\u001B[0m\n\u001B[1;32m----> 1\u001B[0m c \u001B[38;5;241m=\u001B[39m a \u001B[38;5;241m*\u001B[39m b\n\u001B[0;32m      2\u001B[0m \u001B[38;5;28mprint\u001B[39m(c\u001B[38;5;241m.\u001B[39mshape)\n",
      "\u001B[1;31mValueError\u001B[0m: operands could not be broadcast together with shapes (4,3) (3,2) "
     ]
    }
   ],
   "source": [
    "c = a * b\n",
    "print(c.shape)"
   ],
   "metadata": {
    "collapsed": false,
    "ExecuteTime": {
     "end_time": "2024-04-01T09:39:29.097958Z",
     "start_time": "2024-04-01T09:39:29.083497600Z"
    }
   },
   "id": "dca37e24a422f9e5",
   "execution_count": 21
  },
  {
   "cell_type": "code",
   "outputs": [
    {
     "name": "stdout",
     "output_type": "stream",
     "text": [
      "[[-0.38648792  0.69923887  1.14559487]\n",
      " [-0.73826909  3.10118536 -0.78421489]\n",
      " [-0.85556779 -0.3534891  -0.69076701]]\n",
      "[[0.5438406 ]\n",
      " [0.92966678]]\n"
     ]
    }
   ],
   "source": [
    "a=np.random.randn(3,3)\n",
    "a.shape=(3,3)\n",
    "print(a)\n",
    "\n",
    "b=np.random.randn(2,1)\n",
    "b.shape=(2,1)\n",
    "print(b)"
   ],
   "metadata": {
    "collapsed": false,
    "ExecuteTime": {
     "end_time": "2024-04-01T09:41:30.012388300Z",
     "start_time": "2024-04-01T09:41:30.001421500Z"
    }
   },
   "id": "caea10dd71adf05a",
   "execution_count": 23
  },
  {
   "cell_type": "code",
   "outputs": [
    {
     "ename": "ValueError",
     "evalue": "operands could not be broadcast together with shapes (3,3) (2,1) ",
     "output_type": "error",
     "traceback": [
      "\u001B[1;31m---------------------------------------------------------------------------\u001B[0m",
      "\u001B[1;31mValueError\u001B[0m                                Traceback (most recent call last)",
      "Cell \u001B[1;32mIn[24], line 1\u001B[0m\n\u001B[1;32m----> 1\u001B[0m c \u001B[38;5;241m=\u001B[39m a \u001B[38;5;241m+\u001B[39m b\n\u001B[0;32m      2\u001B[0m \u001B[38;5;28mprint\u001B[39m(c)\n\u001B[0;32m      3\u001B[0m \u001B[38;5;28mprint\u001B[39m(c\u001B[38;5;241m.\u001B[39mshape)\n",
      "\u001B[1;31mValueError\u001B[0m: operands could not be broadcast together with shapes (3,3) (2,1) "
     ]
    }
   ],
   "source": [
    "c = a + b\n",
    "print(c)\n",
    "print(c.shape)"
   ],
   "metadata": {
    "collapsed": false,
    "ExecuteTime": {
     "end_time": "2024-04-01T09:42:02.981157300Z",
     "start_time": "2024-04-01T09:42:02.911805100Z"
    }
   },
   "id": "c9e01ebaa50584e0",
   "execution_count": 24
  },
  {
   "cell_type": "code",
   "outputs": [
    {
     "name": "stdout",
     "output_type": "stream",
     "text": [
      "[[[1]\n",
      "  [2]]\n",
      "\n",
      " [[3]\n",
      "  [4]]]\n",
      "(2, 2, 1)\n"
     ]
    }
   ],
   "source": [
    "x=np.array([[[1],[2]],[[3],[4]]])\n",
    "print(x)\n",
    "print(x.shape)"
   ],
   "metadata": {
    "collapsed": false,
    "ExecuteTime": {
     "end_time": "2024-04-01T09:43:18.231035200Z",
     "start_time": "2024-04-01T09:43:18.139863500Z"
    }
   },
   "id": "a1ea91542d9ef5a5",
   "execution_count": 25
  },
  {
   "cell_type": "code",
   "outputs": [
    {
     "name": "stdout",
     "output_type": "stream",
     "text": [
      "(2, 3)\n"
     ]
    }
   ],
   "source": [
    "a=np.random.randn(2,3)\n",
    "a.shape=(2,3)\n",
    "\n",
    "b=np.random.randn(2,1)\n",
    "b.shape=(2,1)\n",
    "\n",
    "c=a+b\n",
    "print(c.shape)"
   ],
   "metadata": {
    "collapsed": false,
    "ExecuteTime": {
     "end_time": "2024-04-01T10:04:09.696080900Z",
     "start_time": "2024-04-01T10:04:09.577940Z"
    }
   },
   "id": "c6f63cf8257a3385",
   "execution_count": 30
  },
  {
   "cell_type": "code",
   "outputs": [
    {
     "name": "stdout",
     "output_type": "stream",
     "text": [
      "(4, 3)\n"
     ]
    }
   ],
   "source": [
    "a=np.random.randn(4,3)\n",
    "a.shape=(4,3)\n",
    "\n",
    "b=np.random.randn(1,3)\n",
    "b.shape=(1,3)\n",
    "\n",
    "c= a * b\n",
    "print(c.shape)"
   ],
   "metadata": {
    "collapsed": false,
    "ExecuteTime": {
     "end_time": "2024-04-01T10:05:21.077036500Z",
     "start_time": "2024-04-01T10:05:21.069383200Z"
    }
   },
   "id": "652f9819ee9dbf99",
   "execution_count": 31
  },
  {
   "cell_type": "code",
   "outputs": [
    {
     "name": "stdout",
     "output_type": "stream",
     "text": [
      "[[ 5  5]\n",
      " [ 5 10]]\n"
     ]
    }
   ],
   "source": [
    "a=np.array([[2,1],[1,3]])\n",
    "result = np.dot(a, a)\n",
    "print(result)"
   ],
   "metadata": {
    "collapsed": false,
    "ExecuteTime": {
     "end_time": "2024-04-01T10:06:32.537093Z",
     "start_time": "2024-04-01T10:06:32.403340700Z"
    }
   },
   "id": "33cbb06c00a6eefe",
   "execution_count": 33
  },
  {
   "cell_type": "code",
   "outputs": [
    {
     "name": "stdout",
     "output_type": "stream",
     "text": [
      "[[ 2.80659871 10.02072313  0.25633408]\n",
      " [ 0.68583508  1.2200956   1.00208653]\n",
      " [ 1.81584482  0.22845909  1.83949516]]\n"
     ]
    }
   ],
   "source": [
    "a = np.random.randn(3,3)\n",
    "a.shape=(3,3)\n",
    "\n",
    "b=np.random.randn(3,3)\n",
    "b.shape=(3,3)\n",
    "\n",
    "c= a**2 + b.T**2\n",
    "print(c)"
   ],
   "metadata": {
    "collapsed": false,
    "ExecuteTime": {
     "end_time": "2024-04-01T10:18:51.884098300Z",
     "start_time": "2024-04-01T10:18:51.867293300Z"
    }
   },
   "id": "a79016307f1edb59",
   "execution_count": 53
  },
  {
   "cell_type": "code",
   "outputs": [
    {
     "name": "stdout",
     "output_type": "stream",
     "text": [
      "[[ 2.80659871 10.02072313  0.25633408]\n",
      " [ 0.68583508  1.2200956   1.00208653]\n",
      " [ 1.81584482  0.22845909  1.83949516]]\n"
     ]
    },
    {
     "data": {
      "text/plain": "'\\nfor i in range(3):\\n    c[i] = a[i]**2 + b[i]**2\\nprint(c)\\n'"
     },
     "execution_count": 54,
     "metadata": {},
     "output_type": "execute_result"
    }
   ],
   "source": [
    "\n",
    "'''\n",
    "for i in range(3):\n",
    "    for j in range(3):\n",
    "        c[i][j] = a[i][j]**2 + b[i][j]**2\n",
    "print(c)\n",
    "'''\n",
    "\n",
    "for i in range(3):\n",
    "    for j in range(3):\n",
    "        c[i][j] = a[i][j]**2 + b[j][i]**2\n",
    "print(c)\n",
    "\n",
    "\n",
    "'''\n",
    "for i in range(3):\n",
    "    c[i] = a[i]**2 + b[i]**2\n",
    "print(c)\n",
    "'''"
   ],
   "metadata": {
    "collapsed": false,
    "ExecuteTime": {
     "end_time": "2024-04-01T10:18:53.205969400Z",
     "start_time": "2024-04-01T10:18:53.200442300Z"
    }
   },
   "id": "d35a6d665e77d7c8",
   "execution_count": 54
  },
  {
   "cell_type": "code",
   "outputs": [],
   "source": [],
   "metadata": {
    "collapsed": false
   },
   "id": "20e28ab7cbfc9f51"
  }
 ],
 "metadata": {
  "kernelspec": {
   "display_name": "Python 3",
   "language": "python",
   "name": "python3"
  },
  "language_info": {
   "codemirror_mode": {
    "name": "ipython",
    "version": 2
   },
   "file_extension": ".py",
   "mimetype": "text/x-python",
   "name": "python",
   "nbconvert_exporter": "python",
   "pygments_lexer": "ipython2",
   "version": "2.7.6"
  }
 },
 "nbformat": 4,
 "nbformat_minor": 5
}
