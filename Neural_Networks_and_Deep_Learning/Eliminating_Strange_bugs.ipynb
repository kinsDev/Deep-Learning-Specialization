{
 "cells": [
  {
   "cell_type": "code",
   "execution_count": 1,
   "id": "initial_id",
   "metadata": {
    "collapsed": true,
    "ExecuteTime": {
     "end_time": "2024-03-31T15:43:54.945761300Z",
     "start_time": "2024-03-31T15:43:54.800953700Z"
    }
   },
   "outputs": [],
   "source": [
    "import numpy as np\n",
    "\n",
    "a = np.random.randn(5)"
   ]
  },
  {
   "cell_type": "code",
   "outputs": [
    {
     "name": "stdout",
     "output_type": "stream",
     "text": [
      "[-1.0428667  -1.19565568 -1.42067171  0.89460447 -1.37683759]\n"
     ]
    }
   ],
   "source": [
    "print(a)"
   ],
   "metadata": {
    "collapsed": false,
    "ExecuteTime": {
     "end_time": "2024-03-31T15:44:05.314835800Z",
     "start_time": "2024-03-31T15:44:05.223325800Z"
    }
   },
   "id": "9d9c03d46494d095",
   "execution_count": 2
  },
  {
   "cell_type": "code",
   "outputs": [
    {
     "name": "stdout",
     "output_type": "stream",
     "text": [
      "(5,)\n"
     ]
    }
   ],
   "source": [
    "print(a.shape)"
   ],
   "metadata": {
    "collapsed": false,
    "ExecuteTime": {
     "end_time": "2024-03-31T15:44:25.323855900Z",
     "start_time": "2024-03-31T15:44:25.251659300Z"
    }
   },
   "id": "d24b48de36b89b46",
   "execution_count": 3
  },
  {
   "cell_type": "code",
   "outputs": [
    {
     "name": "stdout",
     "output_type": "stream",
     "text": [
      "[-1.0428667  -1.19565568 -1.42067171  0.89460447 -1.37683759]\n"
     ]
    }
   ],
   "source": [
    "print(a.T)"
   ],
   "metadata": {
    "collapsed": false,
    "ExecuteTime": {
     "end_time": "2024-03-31T15:45:17.063625600Z",
     "start_time": "2024-03-31T15:45:17.054541300Z"
    }
   },
   "id": "c3f890884459825",
   "execution_count": 4
  },
  {
   "cell_type": "code",
   "outputs": [
    {
     "name": "stdout",
     "output_type": "stream",
     "text": [
      "7.231470441949658\n"
     ]
    }
   ],
   "source": [
    "print(np.dot(a, a.T))"
   ],
   "metadata": {
    "collapsed": false,
    "ExecuteTime": {
     "end_time": "2024-03-31T15:45:36.066225200Z",
     "start_time": "2024-03-31T15:45:35.893513200Z"
    }
   },
   "id": "19ef38c933e0456e",
   "execution_count": 5
  },
  {
   "cell_type": "markdown",
   "source": [
    "### When you are coding new networks, don't use data structures where the shape is n, (n comma) just like our example above 5, (5 comma)"
   ],
   "metadata": {
    "collapsed": false
   },
   "id": "17dd4247da88463c"
  },
  {
   "cell_type": "markdown",
   "source": [
    "### Instead you can commit a to be a 5 x 1 column vector (5, 1)"
   ],
   "metadata": {
    "collapsed": false
   },
   "id": "9c41e189bbf87ac6"
  },
  {
   "cell_type": "code",
   "outputs": [
    {
     "name": "stdout",
     "output_type": "stream",
     "text": [
      "[[ 0.41018597]\n",
      " [-0.84319874]\n",
      " [-1.16192826]\n",
      " [ 1.69306736]\n",
      " [-0.50927486]]\n"
     ]
    }
   ],
   "source": [
    "# Column vector. (1,5) vector is a row vector\n",
    "a = np.random.randn(5, 1)\n",
    "print(a)"
   ],
   "metadata": {
    "collapsed": false,
    "ExecuteTime": {
     "end_time": "2024-03-31T15:49:27.256030900Z",
     "start_time": "2024-03-31T15:49:27.183275Z"
    }
   },
   "id": "655de086b8a969b",
   "execution_count": 6
  },
  {
   "cell_type": "code",
   "outputs": [
    {
     "name": "stdout",
     "output_type": "stream",
     "text": [
      "[[ 0.41018597 -0.84319874 -1.16192826  1.69306736 -0.50927486]]\n"
     ]
    }
   ],
   "source": [
    "print(a.T)"
   ],
   "metadata": {
    "collapsed": false,
    "ExecuteTime": {
     "end_time": "2024-03-31T15:49:34.725538100Z",
     "start_time": "2024-03-31T15:49:34.718778Z"
    }
   },
   "id": "25a439c40b8223d8",
   "execution_count": 7
  },
  {
   "cell_type": "code",
   "outputs": [
    {
     "name": "stdout",
     "output_type": "stream",
     "text": [
      "[[ 0.16825253 -0.34586829 -0.47660666  0.69447247 -0.2088974 ]\n",
      " [-0.34586829  0.71098411  0.97973644 -1.42759226  0.42941992]\n",
      " [-0.47660666  0.97973644  1.35007728 -1.96722281  0.59174086]\n",
      " [ 0.69447247 -1.42759226 -1.96722281  2.86647708 -0.86223665]\n",
      " [-0.2088974   0.42941992  0.59174086 -0.86223665  0.25936089]]\n"
     ]
    }
   ],
   "source": [
    "print(np.dot(a, a.T))"
   ],
   "metadata": {
    "collapsed": false,
    "ExecuteTime": {
     "end_time": "2024-03-31T15:50:23.994700500Z",
     "start_time": "2024-03-31T15:50:23.844865200Z"
    }
   },
   "id": "87d20c5d751ee870",
   "execution_count": 8
  },
  {
   "cell_type": "code",
   "outputs": [
    {
     "name": "stdout",
     "output_type": "stream",
     "text": [
      "[[0.28904321 0.59220806 0.56883558 0.00487702 0.65428731]]\n"
     ]
    }
   ],
   "source": [
    "b = np.random.rand(1, 5)\n",
    "print(b)"
   ],
   "metadata": {
    "collapsed": false,
    "ExecuteTime": {
     "end_time": "2024-03-31T15:53:20.157098Z",
     "start_time": "2024-03-31T15:53:20.086778400Z"
    }
   },
   "id": "f6ba5f2974d909bd",
   "execution_count": 9
  },
  {
   "cell_type": "code",
   "outputs": [],
   "source": [
    "# asserting that my variable is a vector\n",
    "assert(a.shape == (5,1))"
   ],
   "metadata": {
    "collapsed": false,
    "ExecuteTime": {
     "end_time": "2024-03-31T15:55:03.468446800Z",
     "start_time": "2024-03-31T15:55:03.363701Z"
    }
   },
   "id": "2763f03b01001d78",
   "execution_count": 13
  },
  {
   "cell_type": "code",
   "outputs": [],
   "source": [],
   "metadata": {
    "collapsed": false
   },
   "id": "a1535aaed6a794cc"
  }
 ],
 "metadata": {
  "kernelspec": {
   "display_name": "Python 3",
   "language": "python",
   "name": "python3"
  },
  "language_info": {
   "codemirror_mode": {
    "name": "ipython",
    "version": 2
   },
   "file_extension": ".py",
   "mimetype": "text/x-python",
   "name": "python",
   "nbconvert_exporter": "python",
   "pygments_lexer": "ipython2",
   "version": "2.7.6"
  }
 },
 "nbformat": 4,
 "nbformat_minor": 5
}
